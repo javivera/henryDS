{
 "cells": [
  {
   "cell_type": "markdown",
   "metadata": {},
   "source": [
    "1) Implementar un juego, que consista en apilar números enteros del 1 al 20, de forma aleatoria, para lo cual debe usarse una estructura de Pila. Luego, el usuario debe elegir un número de veces en que se va a quitar elementos de la pila, los cuales, sumados entre sí, no deben superar el valor de 50. El usuario pierde si la suma supera ese valor. Si no lo supera, gana, pero su calificación será 10 menos el número elementos que falten quitar para todavía no superar 50. El programa debe informar si perdió, y si ganó, con qué calificación lo hizo.\n",
    "\n",
    "Consideraciones:\n",
    "a. Se puede usar la función input() para obtener una entrada de teclado.\n",
    "b. Se puede usar la el modulo random para obtener valores aleatorios."
   ]
  },
  {
   "cell_type": "code",
   "execution_count": 119,
   "metadata": {},
   "outputs": [],
   "source": [
    "import random\n",
    "\n",
    "class Estructura_Pila(object):\n",
    "    def __init__(self):\n",
    "        self.__list = []\n",
    "        \n",
    "    # Agregar un elemento a la Pila\n",
    "    def push(self, item):      \n",
    "        self.__list.append(item)\n",
    "\n",
    "    # Quitar un elemento de la Pila\n",
    "    def pop(self):         \n",
    "        return self.__list.pop()\n",
    "\n",
    "    # Obtener el elemento superior de la pila\n",
    "    def peek(self):\n",
    "        if self.__list:\n",
    "            return self.__list[-1]\n",
    "        else:\n",
    "            return None\n",
    "\n",
    "    # Determinar si la Pila está vacía\n",
    "    def is_empty(self):\n",
    "        return self.__list == [] \n",
    "\n",
    "    # Devuelve el número de elementos en la Pila     \n",
    "    def size(self):\n",
    "        return len(self.__list)\n",
    "    \n",
    "    def randomize_stack(self):\n",
    "        self.__list = [random.randint(0,20) for j in range(51)]\n",
    "        "
   ]
  },
  {
   "cell_type": "code",
   "execution_count": 120,
   "metadata": {},
   "outputs": [
    {
     "ename": "AttributeError",
     "evalue": "'Estructura_Pila' object has no attribute 'jugar'",
     "output_type": "error",
     "traceback": [
      "\u001b[0;31m---------------------------------------------------------------------------\u001b[0m",
      "\u001b[0;31mAttributeError\u001b[0m                            Traceback (most recent call last)",
      "\u001b[1;32m/home/jvera/gitRepos/henryDS/clase5/Homework_5.ipynb Cell 3'\u001b[0m in \u001b[0;36m<cell line: 2>\u001b[0;34m()\u001b[0m\n\u001b[1;32m      <a href='vscode-notebook-cell:/home/jvera/gitRepos/henryDS/clase5/Homework_5.ipynb#ch0000004?line=0'>1</a>\u001b[0m a \u001b[39m=\u001b[39m Estructura_Pila()\n\u001b[0;32m----> <a href='vscode-notebook-cell:/home/jvera/gitRepos/henryDS/clase5/Homework_5.ipynb#ch0000004?line=1'>2</a>\u001b[0m a\u001b[39m.\u001b[39;49mjugar(\u001b[39m5\u001b[39m)\n",
      "\u001b[0;31mAttributeError\u001b[0m: 'Estructura_Pila' object has no attribute 'jugar'"
     ]
    }
   ],
   "source": [
    "a = Estructura_Pila()\n",
    "a.jugar(5)"
   ]
  },
  {
   "cell_type": "code",
   "execution_count": 123,
   "metadata": {},
   "outputs": [],
   "source": [
    "def jugar(pila,entrada):\n",
    "        #entrada = input('ingrese cantidad de números a contar')\n",
    "        \n",
    "        result = 0\n",
    "\n",
    "        for j in range(entrada):\n",
    "            result+= pila.pop()\n",
    "\n",
    "        if result >= 50:\n",
    "            print('Vaya, has perdido, intentalo nuevamente')\n",
    "        else:\n",
    "            pop_restantes = 0\n",
    "            centinela = result\n",
    "\n",
    "            while centinela < 50:\n",
    "                centinela += pila.pop()\n",
    "                pop_restantes += 1\n",
    "                \n",
    "            puntaje = 10 - pop_restantes\n",
    "            print('Tu puntaje: {}'.format(puntaje))"
   ]
  },
  {
   "cell_type": "code",
   "execution_count": null,
   "metadata": {},
   "outputs": [],
   "source": []
  },
  {
   "cell_type": "code",
   "execution_count": 135,
   "metadata": {},
   "outputs": [
    {
     "name": "stdout",
     "output_type": "stream",
     "text": [
      "Tu puntaje: 9\n"
     ]
    }
   ],
   "source": [
    "def main():\n",
    "    pila = Estructura_Pila()\n",
    "    pila.randomize_stack()\n",
    "    # entrada = input('Ingrese cantidad de elementos a contar')\n",
    "    jugar(pila,4)\n",
    "\n",
    "main()"
   ]
  },
  {
   "cell_type": "code",
   "execution_count": null,
   "metadata": {},
   "outputs": [],
   "source": []
  },
  {
   "cell_type": "code",
   "execution_count": null,
   "metadata": {},
   "outputs": [],
   "source": []
  }
 ],
 "metadata": {
  "interpreter": {
   "hash": "7bd98636d4a20fe018e287a83db47090b6659692ee4acf3e063777fc8b0e3952"
  },
  "kernelspec": {
   "display_name": "Python 3.10.4 ('alkemy')",
   "language": "python",
   "name": "python3"
  },
  "language_info": {
   "codemirror_mode": {
    "name": "ipython",
    "version": 3
   },
   "file_extension": ".py",
   "mimetype": "text/x-python",
   "name": "python",
   "nbconvert_exporter": "python",
   "pygments_lexer": "ipython3",
   "version": "3.10.4"
  },
  "orig_nbformat": 4
 },
 "nbformat": 4,
 "nbformat_minor": 2
}
